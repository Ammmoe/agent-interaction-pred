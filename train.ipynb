{
 "cells": [
  {
   "cell_type": "code",
   "execution_count": 86,
   "id": "c12c7c64",
   "metadata": {},
   "outputs": [],
   "source": [
    "import torch\n",
    "import joblib\n",
    "import numpy as np\n",
    "from torch import nn\n",
    "import torch.optim as optim\n",
    "from pathlib import Path\n",
    "from data.data_loader import DroneGraphDataset\n",
    "from models.pretrained_model_loader import load_pretrained_traj_model, extract_context_embeddings\n",
    "from models.tgn import DroneRelationModel"
   ]
  },
  {
   "cell_type": "code",
   "execution_count": 87,
   "id": "0cb26754",
   "metadata": {},
   "outputs": [
    {
     "name": "stdout",
     "output_type": "stream",
     "text": [
      "torch.Size([50, 6, 4])\n",
      "torch.Size([6, 4])\n",
      "torch.Size([9, 2])\n",
      "torch.Size([9])\n"
     ]
    }
   ],
   "source": [
    "dataset = DroneGraphDataset(\n",
    "    trajectory_csv='data/drone_states.csv',\n",
    "    relationship_csv='data/drone_relations.csv',\n",
    "    lookback=50,\n",
    "    device='cuda'\n",
    ")\n",
    "\n",
    "sample = dataset[0]\n",
    "print(sample['context_window'].shape)    # [50, num_drones, 4]\n",
    "print(sample['current_features'].shape)  # [num_drones, 4]\n",
    "print(sample['relationships'].shape)     # [num_pairs, 2]\n",
    "print(sample['labels'].shape)            # [num_pairs]\n"
   ]
  },
  {
   "cell_type": "code",
   "execution_count": 88,
   "id": "0beb0f9d",
   "metadata": {},
   "outputs": [
    {
     "name": "stdout",
     "output_type": "stream",
     "text": [
      "Context embeddings shape: torch.Size([6, 128])\n"
     ]
    },
    {
     "name": "stderr",
     "output_type": "stream",
     "text": [
      "/home/amm/Documents/agent-interaction-pred/models/pretrained_model_loader.py:44: FutureWarning: You are using `torch.load` with `weights_only=False` (the current default value), which uses the default pickle module implicitly. It is possible to construct malicious pickle data which will execute arbitrary code during unpickling (See https://github.com/pytorch/pytorch/blob/main/SECURITY.md#untrusted-models for more details). In a future release, the default value for `weights_only` will be flipped to `True`. This limits the functions that could be executed during unpickling. Arbitrary objects will no longer be allowed to be loaded via this mode unless they are explicitly allowlisted by the user via `torch.serialization.add_safe_globals`. We recommend you start setting `weights_only=True` for any use case where you don't have full control of the loaded file. Please open an issue on GitHub for any issues related to this experimental feature.\n",
      "  model.load_state_dict(torch.load(MODEL_PATH, map_location=device))\n"
     ]
    }
   ],
   "source": [
    "# Example usage\n",
    "experiment_dir = Path(\"experiments/20251015_134311\")\n",
    "device = torch.device(\"cuda\" if torch.cuda.is_available() else \"cpu\")\n",
    "\n",
    "# Load model + config\n",
    "model, config = load_pretrained_traj_model(experiment_dir, device)\n",
    "\n",
    "# Load scalers\n",
    "scaler_X = joblib.load(experiment_dir / \"scaler_X.pkl\")\n",
    "\n",
    "# Dummy trajectory data (replace with your actual drone trajectory segment)\n",
    "dummy_data = np.random.rand(100, 6 * 3).astype(np.float32)  # 100 timesteps, 6 drones, xyz\n",
    "\n",
    "# Extract embeddings\n",
    "context_emb = extract_context_embeddings(\n",
    "    model,\n",
    "    traj_data=dummy_data,\n",
    "    scaler_X=scaler_X,\n",
    "    lookback=config[\"LOOK_BACK\"],\n",
    "    features_per_agent=3,\n",
    "    device=device,\n",
    ")\n",
    "\n",
    "print(\"Context embeddings shape:\", context_emb.shape)"
   ]
  },
  {
   "cell_type": "code",
   "execution_count": 89,
   "id": "b7697aca",
   "metadata": {},
   "outputs": [],
   "source": [
    "from torch.utils.data import Subset\n",
    "\n",
    "flight_ids = dataset.flights\n",
    "num_train = int(0.8 * len(flight_ids))\n",
    "train_flights = flight_ids[:num_train]\n",
    "test_flights = flight_ids[num_train:]\n",
    "\n",
    "train_indices = [i for i, (fid, _) in enumerate(dataset.valid_indices) if fid in train_flights]\n",
    "test_indices = [i for i, (fid, _) in enumerate(dataset.valid_indices) if fid in test_flights]\n",
    "\n",
    "train_ds = Subset(dataset, train_indices)\n",
    "test_ds = Subset(dataset, test_indices)"
   ]
  },
  {
   "cell_type": "code",
   "execution_count": null,
   "id": "42f1c64e",
   "metadata": {},
   "outputs": [],
   "source": [
    "def train_epoch(model, loader, optimizer, criterion, scaler_X, pretrained_model, config):\n",
    "    model.train()\n",
    "    total_loss = 0\n",
    "    for batch in loader:\n",
    "        context_window = batch[\"context_window\"].squeeze(0).cpu().numpy()  # [50, num_drones, 4]\n",
    "        current_features = batch[\"current_features\"].squeeze(0).to(model.device)\n",
    "        print(f\"current_features_before_squeeze: {current_features.shape}\")\n",
    "        relationships = batch[\"relationships\"].squeeze(0).to(model.device)\n",
    "        labels = batch[\"labels\"].squeeze(0).float().to(model.device)\n",
    "\n",
    "        # Extract context embeddings from pretrained model\n",
    "        context_emb = extract_context_embeddings(\n",
    "            pretrained_model,\n",
    "            traj_data=context_window[:, :, :3].reshape(50, -1),\n",
    "            scaler_X=scaler_X,\n",
    "            lookback=config[\"LOOK_BACK\"],\n",
    "            features_per_agent=3,\n",
    "            device=model.device,\n",
    "        )\n",
    "\n",
    "        preds = model(current_features, context_emb, relationships)\n",
    "        loss = criterion(preds, labels)\n",
    "\n",
    "        optimizer.zero_grad()\n",
    "        loss.backward()\n",
    "        optimizer.step()\n",
    "\n",
    "        total_loss += loss.item()\n",
    "    return total_loss / len(loader)"
   ]
  },
  {
   "cell_type": "code",
   "execution_count": null,
   "id": "ccf74c7e",
   "metadata": {},
   "outputs": [],
   "source": [
    "@torch.no_grad()\n",
    "def evaluate(model, loader, scaler_X, pretrained_model, config):\n",
    "    model.eval()\n",
    "    preds_all, labels_all = [], []\n",
    "    for batch in loader:\n",
    "        context_window = batch[\"context_window\"].squeeze(0).cpu().numpy()\n",
    "        current_features = batch[\"current_features\"].squeeze(0).to(model.device)\n",
    "        relationships = batch[\"relationships\"].squeeze(0).to(model.device)\n",
    "        labels = batch[\"labels\"].squeeze(0).float().to(model.device)\n",
    "\n",
    "        context_emb = extract_context_embeddings(\n",
    "            pretrained_model,\n",
    "            traj_data=context_window[:, :, :3].reshape(50, -1),\n",
    "            scaler_X=scaler_X,\n",
    "            lookback=config[\"LOOK_BACK\"],\n",
    "            features_per_agent=3,\n",
    "            device=model.device,\n",
    "        )\n",
    "\n",
    "        preds = model(current_features, context_emb, relationships)\n",
    "        preds_all.append(preds)\n",
    "        labels_all.append(labels)\n",
    "\n",
    "    preds_all = torch.cat(preds_all)\n",
    "    labels_all = torch.cat(labels_all)\n",
    "    acc = ((preds_all > 0.5) == labels_all).float().mean().item()\n",
    "    return acc"
   ]
  },
  {
   "cell_type": "code",
   "execution_count": 92,
   "id": "3c40a725",
   "metadata": {},
   "outputs": [
    {
     "name": "stdout",
     "output_type": "stream",
     "text": [
      "current_features_before_squeeze: torch.Size([6, 4])\n"
     ]
    },
    {
     "name": "stderr",
     "output_type": "stream",
     "text": [
      "/home/amm/Documents/agent-interaction-pred/models/pretrained_model_loader.py:44: FutureWarning: You are using `torch.load` with `weights_only=False` (the current default value), which uses the default pickle module implicitly. It is possible to construct malicious pickle data which will execute arbitrary code during unpickling (See https://github.com/pytorch/pytorch/blob/main/SECURITY.md#untrusted-models for more details). In a future release, the default value for `weights_only` will be flipped to `True`. This limits the functions that could be executed during unpickling. Arbitrary objects will no longer be allowed to be loaded via this mode unless they are explicitly allowlisted by the user via `torch.serialization.add_safe_globals`. We recommend you start setting `weights_only=True` for any use case where you don't have full control of the loaded file. Please open an issue on GitHub for any issues related to this experimental feature.\n",
      "  model.load_state_dict(torch.load(MODEL_PATH, map_location=device))\n"
     ]
    },
    {
     "ename": "RuntimeError",
     "evalue": "view size is not compatible with input tensor's size and stride (at least one dimension spans across two contiguous subspaces). Use .reshape(...) instead.",
     "output_type": "error",
     "traceback": [
      "\u001b[0;31m---------------------------------------------------------------------------\u001b[0m",
      "\u001b[0;31mRuntimeError\u001b[0m                              Traceback (most recent call last)",
      "Cell \u001b[0;32mIn[92], line 13\u001b[0m\n\u001b[1;32m     11\u001b[0m \u001b[38;5;66;03m# Training loop\u001b[39;00m\n\u001b[1;32m     12\u001b[0m \u001b[38;5;28;01mfor\u001b[39;00m epoch \u001b[38;5;129;01min\u001b[39;00m \u001b[38;5;28mrange\u001b[39m(\u001b[38;5;241m10\u001b[39m):\n\u001b[0;32m---> 13\u001b[0m     loss \u001b[38;5;241m=\u001b[39m \u001b[43mtrain_epoch\u001b[49m\u001b[43m(\u001b[49m\u001b[43mrelation_model\u001b[49m\u001b[43m,\u001b[49m\u001b[43m \u001b[49m\u001b[43mtrain_ds\u001b[49m\u001b[43m,\u001b[49m\u001b[43m \u001b[49m\u001b[43moptimizer\u001b[49m\u001b[43m,\u001b[49m\u001b[43m \u001b[49m\u001b[43mcriterion\u001b[49m\u001b[43m,\u001b[49m\u001b[43m \u001b[49m\u001b[43mscaler_X\u001b[49m\u001b[43m,\u001b[49m\u001b[43m \u001b[49m\u001b[43mmodel_traj\u001b[49m\u001b[43m,\u001b[49m\u001b[43m \u001b[49m\u001b[43mconfig\u001b[49m\u001b[43m)\u001b[49m\n\u001b[1;32m     14\u001b[0m     acc \u001b[38;5;241m=\u001b[39m evaluate(relation_model, test_ds, scaler_X, model_traj, config)\n\u001b[1;32m     15\u001b[0m     \u001b[38;5;28mprint\u001b[39m(\u001b[38;5;124mf\u001b[39m\u001b[38;5;124m\"\u001b[39m\u001b[38;5;124mEpoch \u001b[39m\u001b[38;5;132;01m{\u001b[39;00mepoch\u001b[38;5;241m+\u001b[39m\u001b[38;5;241m1\u001b[39m\u001b[38;5;132;01m}\u001b[39;00m\u001b[38;5;124m: Loss=\u001b[39m\u001b[38;5;132;01m{\u001b[39;00mloss\u001b[38;5;132;01m:\u001b[39;00m\u001b[38;5;124m.4f\u001b[39m\u001b[38;5;132;01m}\u001b[39;00m\u001b[38;5;124m, Test Acc=\u001b[39m\u001b[38;5;132;01m{\u001b[39;00macc\u001b[38;5;132;01m:\u001b[39;00m\u001b[38;5;124m.3f\u001b[39m\u001b[38;5;132;01m}\u001b[39;00m\u001b[38;5;124m\"\u001b[39m)\n",
      "Cell \u001b[0;32mIn[90], line 9\u001b[0m, in \u001b[0;36mtrain_epoch\u001b[0;34m(model, loader, optimizer, criterion, scaler_X, pretrained_model, config)\u001b[0m\n\u001b[1;32m      7\u001b[0m \u001b[38;5;28mprint\u001b[39m(\u001b[38;5;124mf\u001b[39m\u001b[38;5;124m\"\u001b[39m\u001b[38;5;124mcurrent_features_before_squeeze: \u001b[39m\u001b[38;5;132;01m{\u001b[39;00mcurrent_features\u001b[38;5;241m.\u001b[39mshape\u001b[38;5;132;01m}\u001b[39;00m\u001b[38;5;124m\"\u001b[39m)\n\u001b[1;32m      8\u001b[0m \u001b[38;5;66;03m# Remove only the batch dimension for GRU input\u001b[39;00m\n\u001b[0;32m----> 9\u001b[0m current_features \u001b[38;5;241m=\u001b[39m \u001b[43mcurrent_features\u001b[49m\u001b[38;5;241;43m.\u001b[39;49m\u001b[43mview\u001b[49m\u001b[43m(\u001b[49m\u001b[43mcurrent_features\u001b[49m\u001b[38;5;241;43m.\u001b[39;49m\u001b[43msize\u001b[49m\u001b[43m(\u001b[49m\u001b[38;5;241;43m1\u001b[39;49m\u001b[43m)\u001b[49m\u001b[43m,\u001b[49m\u001b[43m \u001b[49m\u001b[38;5;241;43m-\u001b[39;49m\u001b[38;5;241;43m1\u001b[39;49m\u001b[43m)\u001b[49m  \u001b[38;5;66;03m# [6, 4]\u001b[39;00m\n\u001b[1;32m     10\u001b[0m relationships \u001b[38;5;241m=\u001b[39m batch[\u001b[38;5;124m\"\u001b[39m\u001b[38;5;124mrelationships\u001b[39m\u001b[38;5;124m\"\u001b[39m]\u001b[38;5;241m.\u001b[39msqueeze(\u001b[38;5;241m0\u001b[39m)\u001b[38;5;241m.\u001b[39mto(model\u001b[38;5;241m.\u001b[39mdevice)\n\u001b[1;32m     11\u001b[0m labels \u001b[38;5;241m=\u001b[39m batch[\u001b[38;5;124m\"\u001b[39m\u001b[38;5;124mlabels\u001b[39m\u001b[38;5;124m\"\u001b[39m]\u001b[38;5;241m.\u001b[39msqueeze(\u001b[38;5;241m0\u001b[39m)\u001b[38;5;241m.\u001b[39mfloat()\u001b[38;5;241m.\u001b[39mto(model\u001b[38;5;241m.\u001b[39mdevice)\n",
      "\u001b[0;31mRuntimeError\u001b[0m: view size is not compatible with input tensor's size and stride (at least one dimension spans across two contiguous subspaces). Use .reshape(...) instead."
     ]
    }
   ],
   "source": [
    "# Load pretrained trajectory model\n",
    "model_traj, config = load_pretrained_traj_model(experiment_dir, device)\n",
    "scaler_X = joblib.load(experiment_dir / \"scaler_X.pkl\")\n",
    "\n",
    "# Initialize new relation model\n",
    "relation_model = DroneRelationModel(context_dim=model_traj.enc_hidden_size * 2, device=device).to(device)\n",
    "\n",
    "optimizer = optim.Adam(relation_model.parameters(), lr=1e-3)\n",
    "criterion = nn.BCELoss()\n",
    "\n",
    "# Training loop\n",
    "for epoch in range(10):\n",
    "    loss = train_epoch(relation_model, train_ds, optimizer, criterion, scaler_X, model_traj, config)\n",
    "    acc = evaluate(relation_model, test_ds, scaler_X, model_traj, config)\n",
    "    print(f\"Epoch {epoch+1}: Loss={loss:.4f}, Test Acc={acc:.3f}\")\n"
   ]
  }
 ],
 "metadata": {
  "kernelspec": {
   "display_name": "traj_gen",
   "language": "python",
   "name": "python3"
  },
  "language_info": {
   "codemirror_mode": {
    "name": "ipython",
    "version": 3
   },
   "file_extension": ".py",
   "mimetype": "text/x-python",
   "name": "python",
   "nbconvert_exporter": "python",
   "pygments_lexer": "ipython3",
   "version": "3.10.18"
  }
 },
 "nbformat": 4,
 "nbformat_minor": 5
}
