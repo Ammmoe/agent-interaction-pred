{
 "cells": [
  {
   "cell_type": "code",
   "execution_count": 2,
   "id": "c12c7c64",
   "metadata": {},
   "outputs": [
    {
     "ename": "ModuleNotFoundError",
     "evalue": "No module named 'data'",
     "output_type": "error",
     "traceback": [
      "\u001b[0;31m---------------------------------------------------------------------------\u001b[0m",
      "\u001b[0;31mModuleNotFoundError\u001b[0m                       Traceback (most recent call last)",
      "Cell \u001b[0;32mIn[2], line 1\u001b[0m\n\u001b[0;32m----> 1\u001b[0m \u001b[38;5;28;01mfrom\u001b[39;00m \u001b[38;5;21;01mdata\u001b[39;00m\u001b[38;5;21;01m.\u001b[39;00m\u001b[38;5;21;01mdata_loader\u001b[39;00m \u001b[38;5;28;01mimport\u001b[39;00m DroneGraphDataset\n",
      "\u001b[0;31mModuleNotFoundError\u001b[0m: No module named 'data'"
     ]
    }
   ],
   "source": [
    "from data.data_loader import DroneGraphDataset"
   ]
  },
  {
   "cell_type": "code",
   "execution_count": null,
   "id": "0cb26754",
   "metadata": {},
   "outputs": [],
   "source": [
    "dataset = DroneGraphDataset(\n",
    "    trajectory_csv='trajectories.csv',\n",
    "    relationship_csv='relationships.csv',\n",
    "    lookback=50,\n",
    "    device='cuda'\n",
    ")\n",
    "\n",
    "sample = dataset[0]\n",
    "print(sample['context_window'].shape)    # [50, num_drones, 4]\n",
    "print(sample['current_features'].shape)  # [num_drones, 4]\n",
    "print(sample['relationships'].shape)     # [num_pairs, 2]\n",
    "print(sample['labels'].shape)            # [num_pairs]\n"
   ]
  }
 ],
 "metadata": {
  "kernelspec": {
   "display_name": "base",
   "language": "python",
   "name": "python3"
  },
  "language_info": {
   "codemirror_mode": {
    "name": "ipython",
    "version": 3
   },
   "file_extension": ".py",
   "mimetype": "text/x-python",
   "name": "python",
   "nbconvert_exporter": "python",
   "pygments_lexer": "ipython3",
   "version": "3.12.7"
  }
 },
 "nbformat": 4,
 "nbformat_minor": 5
}
